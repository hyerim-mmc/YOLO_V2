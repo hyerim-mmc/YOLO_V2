{
 "cells": [
  {
   "cell_type": "code",
   "execution_count": null,
   "metadata": {},
   "outputs": [],
   "source": [
    "# taken from https://github.com/IsaacPatole/CartPole-v0-using-Q-learning-SARSA-and-DNN/blob/master/Qlearning_for_cartpole.py\n",
    "# taken from https://medium.com/@flomay/using-q-learning-to-solve-the-cartpole-balancing-problem-c0a7f47d3f9d"
   ]
  },
  {
   "cell_type": "code",
   "execution_count": 1,
   "metadata": {},
   "outputs": [],
   "source": [
    "import gym\n",
    "import random\n",
    "import numpy as np\n",
    "import seaborn as sns\n",
    "import math\n",
    "from tqdm import tqdm\n",
    "import matplotlib.pyplot as plt"
   ]
  },
  {
   "cell_type": "code",
   "execution_count": 2,
   "metadata": {},
   "outputs": [],
   "source": [
    "env = gym.make(\"CartPole-v0\")"
   ]
  },
  {
   "cell_type": "code",
   "execution_count": 3,
   "metadata": {},
   "outputs": [
    {
     "name": "stdout",
     "output_type": "stream",
     "text": [
      "[ 0.00713753  0.00772483  0.03280672 -0.02201091]\n"
     ]
    },
    {
     "data": {
      "text/plain": [
       "'\\n    Observation:\\n        Type: Box(4)\\n        Num     Observation               Min                     Max\\n        0       Cart Position             -4.8                    4.8\\n        1       Cart Velocity             -Inf                    Inf\\n        2       Pole Angle                -0.418 rad (-24 deg)    0.418 rad (24 deg)\\n        3       Pole Angular Velocity     -Inf                    Inf\\n'"
      ]
     },
     "execution_count": 3,
     "metadata": {},
     "output_type": "execute_result"
    }
   ],
   "source": [
    "observation = env.reset()\n",
    "print(observation)\n",
    "\n",
    "# \n",
    "# ends:  > 12 degrees from vertical\n",
    "#        cart moves to edge of display\n",
    "#        episode length is greater than 200\n",
    "\n",
    "'''\n",
    "    Observation:\n",
    "        Type: Box(4)\n",
    "        Num     Observation               Min                     Max\n",
    "        0       Cart Position             -4.8                    4.8\n",
    "        1       Cart Velocity             -Inf                    Inf\n",
    "        2       Pole Angle                -0.418 rad (-24 deg)    0.418 rad (24 deg)\n",
    "        3       Pole Angular Velocity     -Inf                    Inf\n",
    "'''\n",
    "\n",
    "# actions: 1 or 0 (right or left)\n",
    "# reward:  +1 for every timestep that the pole remains upright\n",
    "# \"solved\": > 195.0 over 100 consecutive trials"
   ]
  },
  {
   "cell_type": "code",
   "execution_count": 4,
   "metadata": {},
   "outputs": [],
   "source": [
    "# Cell 1: define some constants\n",
    "\n",
    "alpha = 0.5\n",
    "epsilon = 0.8\n",
    "gamma = 0.9\n",
    "num_episodes = 1000\n",
    "#buckets = (3,3,6,6)\n",
    "buckets = (1,1,6,12)\n",
    "upper_bounds = [env.observation_space.high[0], 0.5, env.observation_space.high[2], math.radians(50) / 1.]\n",
    "lower_bounds = [env.observation_space.low[0], -0.5, env.observation_space.low[2], -math.radians(50) / 1.]"
   ]
  },
  {
   "cell_type": "code",
   "execution_count": 5,
   "metadata": {},
   "outputs": [],
   "source": [
    "# Cell 2: transform continuous abservations to discrete states\n",
    "\n",
    "def transform_state(observation):\n",
    "    state = list()\n",
    "    for i in range(len(observation)):\n",
    "        scale = (observation[i] + abs(lower_bounds[i])) / (upper_bounds[i]-lower_bounds[i])\n",
    "        tmp_state = int(round((buckets[i]-1)*scale))\n",
    "        tmp_state = min(buckets[i]-1, max(0,tmp_state))\n",
    "        state.append(tmp_state)\n",
    "    return tuple(state)\n"
   ]
  },
  {
   "cell_type": "code",
   "execution_count": 6,
   "metadata": {},
   "outputs": [],
   "source": [
    "# Cell 3: select the action for a given state from the policy\n",
    "\n",
    "def choose_action_from_state(state, this_epsilon):\n",
    "    probability = np.random.random()\n",
    "    if probability >= this_epsilon:\n",
    "        action = np.argmax(q_table[state])\n",
    "    else:\n",
    "        action = env.action_space.sample()\n",
    "\n",
    "    return action"
   ]
  },
  {
   "cell_type": "code",
   "execution_count": 7,
   "metadata": {},
   "outputs": [],
   "source": [
    "# Cell 4: the q-learning part of updating the Q_table\n",
    "\n",
    "def update_q(state,action,reward,next_state):\n",
    "    current_q = q_table[state][action]\n",
    "    new_q = reward + gamma*np.max(q_table[next_state])\n",
    "    q_table[state][action] += alpha * (new_q - current_q)\n",
    "    "
   ]
  },
  {
   "cell_type": "code",
   "execution_count": 8,
   "metadata": {},
   "outputs": [
    {
     "name": "stderr",
     "output_type": "stream",
     "text": [
      "100%|██████████| 1000/1000 [00:09<00:00, 107.42it/s]"
     ]
    },
    {
     "name": "stdout",
     "output_type": "stream",
     "text": [
      "Finished training!\n"
     ]
    },
    {
     "name": "stderr",
     "output_type": "stream",
     "text": [
      "\n"
     ]
    }
   ],
   "source": [
    "# Cell 5: train the agent\n",
    "\n",
    "q_table = np.zeros(buckets + (env.action_space.n,))\n",
    "\n",
    "for episode in tqdm(range(num_episodes)):       \n",
    "    done = False\n",
    "    observation = env.reset()\n",
    "    current_state = transform_state(observation)\n",
    "    \n",
    "    # now do the q_learning\n",
    "    while not done:\n",
    "\n",
    "        # get an action from policy\n",
    "        action = choose_action_from_state(current_state, epsilon)\n",
    "                \n",
    "        # take an action\n",
    "        observation, reward, done, info = env.step(action)\n",
    "        next_state = transform_state(observation)\n",
    "\n",
    "        # q-learning: update Q-table\n",
    "        update_q(current_state,action,reward,next_state)\n",
    "        current_state = next_state\n",
    "        \n",
    "        # Decay epsilon\n",
    "        if epsilon > 0:\n",
    "            epsilon -= epsilon/num_episodes\n",
    "\n",
    "        \n",
    "print('Finished training!')\n",
    "\n",
    "\n"
   ]
  },
  {
   "cell_type": "code",
   "execution_count": 9,
   "metadata": {},
   "outputs": [
    {
     "name": "stdout",
     "output_type": "stream",
     "text": [
      "episode completed in  200\n"
     ]
    }
   ],
   "source": [
    "# Cell 6: run the agent\n",
    "#env = gym.wrappers.Monitor(env,'cartpoleQ')\n",
    "\n",
    "for _ in range(10):\n",
    "\n",
    "    t = 0\n",
    "    done = False\n",
    "    observation = env.reset()\n",
    "    current_state = transform_state(observation)\n",
    "\n",
    "    while not done:    \n",
    "        env.render()\n",
    "        action = choose_action_from_state(current_state, 0)               \n",
    "        observation, reward, done, info = env.step(action)\n",
    "        next_state = transform_state(observation)\n",
    "        current_state = next_state\n",
    "        t += 1\n",
    "\n",
    "\n",
    "    print(\"episode completed in \",t)   \n"
   ]
  },
  {
   "cell_type": "code",
   "execution_count": null,
   "metadata": {},
   "outputs": [],
   "source": []
  },
  {
   "cell_type": "code",
   "execution_count": null,
   "metadata": {},
   "outputs": [],
   "source": []
  }
 ],
 "metadata": {
  "kernelspec": {
   "display_name": "Python 3",
   "language": "python",
   "name": "python3"
  },
  "language_info": {
   "codemirror_mode": {
    "name": "ipython",
    "version": 3
   },
   "file_extension": ".py",
   "mimetype": "text/x-python",
   "name": "python",
   "nbconvert_exporter": "python",
   "pygments_lexer": "ipython3",
   "version": "3.6.12"
  }
 },
 "nbformat": 4,
 "nbformat_minor": 4
}
